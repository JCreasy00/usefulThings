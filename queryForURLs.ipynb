{
 "cells": [
  {
   "cell_type": "code",
   "execution_count": 21,
   "id": "e81b82ae",
   "metadata": {},
   "outputs": [
    {
     "name": "stdout",
     "output_type": "stream",
     "text": [
      "https://www.analyticsvidhya.com/blog/2021/08/a-simple-introduction-to-web-scraping-with-beautiful-soup/&sa=U&ved=2ahUKEwjY9I7fqtn_AhVfM1kFHSSHA18QFnoECAsQAg&usg=AOvVaw1uGxWP1zgyfGxDSWP_Ww4p\n",
      "https://www.analyticsvidhya.com/blog/2015/10/beginner-guide-web-scraping-beautiful-soup-python/&sa=U&ved=2ahUKEwjY9I7fqtn_AhVfM1kFHSSHA18QFnoECAUQAg&usg=AOvVaw32EuzTotpZW61L6dBP0HYb\n",
      "https://www.tutorialspoint.com/beautiful_soup/index.htm&sa=U&ved=2ahUKEwjY9I7fqtn_AhVfM1kFHSSHA18QFnoECAIQAg&usg=AOvVaw1ScuhTgzeD_Hyb91STIAzV\n",
      "https://realpython.com/beautiful-soup-web-scraper-python/&sa=U&ved=2ahUKEwjY9I7fqtn_AhVfM1kFHSSHA18QFnoECAkQAg&usg=AOvVaw3O_5Ur2z8pvs6Zg906r9vA\n",
      "https://realpython.com/beautiful-soup-web-scraper-python/%23step-2-scrape-html-content-from-a-page&sa=U&ved=2ahUKEwjY9I7fqtn_AhVfM1kFHSSHA18Q0gJ6BAgJEAU&usg=AOvVaw13ECtaoRiJYifPu_ztnIUv\n",
      "https://realpython.com/beautiful-soup-web-scraper-python/%23step-3-parse-html-code-with-beautiful-soup&sa=U&ved=2ahUKEwjY9I7fqtn_AhVfM1kFHSSHA18Q0gJ6BAgJEAY&usg=AOvVaw2hwaGR_paO6gvu-qHO-DDC\n",
      "https://www.youtube.com/watch%3Fv%3DgRLHr664tXA&sa=U&ved=2ahUKEwjY9I7fqtn_AhVfM1kFHSSHA18QtwJ6BAgBEAE&usg=AOvVaw1lqjhqpah236fj53dPPVVL\n",
      "https://www.youtube.com/watch%3Fv%3DgRLHr664tXA&sa=U&ved=2ahUKEwjY9I7fqtn_AhVfM1kFHSSHA18QuAJ6BAgBEAI&usg=AOvVaw0dxMgKq7ogfanfYj-AwPjQ\n",
      "https://pythonprogramming.net/introduction-scraping-parsing-beautiful-soup-tutorial/&sa=U&ved=2ahUKEwjY9I7fqtn_AhVfM1kFHSSHA18QFnoECAMQAg&usg=AOvVaw3ZAznJ319AOpXeUUF6o-uy\n",
      "https://www.geeksforgeeks.org/implementing-web-scraping-python-beautiful-soup/&sa=U&ved=2ahUKEwjY9I7fqtn_AhVfM1kFHSSHA18QFnoECAAQAg&usg=AOvVaw01oTGNehsZmb-voQFv8gWZ\n",
      "https://code.tutsplus.com/tutorials/scraping-webpages-in-python-with-beautiful-soup-the-basics--cms-28211&sa=U&ved=2ahUKEwjY9I7fqtn_AhVfM1kFHSSHA18QFnoECAYQAg&usg=AOvVaw2aAwSPE53Y8UwTLkZiwAjz\n",
      "https://data36.com/beautiful-soup-tutorial-web-scraping/&sa=U&ved=2ahUKEwjY9I7fqtn_AhVfM1kFHSSHA18QFnoECAcQAg&usg=AOvVaw028wl7x7b2IykOEiXK54np\n",
      "https://www.scrapingbee.com/blog/python-web-scraping-beautiful-soup/&sa=U&ved=2ahUKEwjY9I7fqtn_AhVfM1kFHSSHA18QFnoECAoQAg&usg=AOvVaw0_NVER-sHTWE_FBfyTyFE7\n",
      "https://support.google.com/websearch%3Fp%3Dws_settings_location%26hl%3Den&sa=U&ved=0ahUKEwjY9I7fqtn_AhVfM1kFHSSHA18Qty4IggE&usg=AOvVaw0TwndvGX39qXaQ6vKTKv-j\n",
      "https://accounts.google.com/ServiceLogin%3Fcontinue%3Dhttps://www.google.com/search%253Fq%253DBeautiful%252BSoup%252Bfor%252Bbeginners%26hl%3Den&sa=U&ved=0ahUKEwjY9I7fqtn_AhVfM1kFHSSHA18Qxs8CCIMB&usg=AOvVaw3Yihi4EvxZuFA6jSy1HWuh\n"
     ]
    }
   ],
   "source": [
    "import requests\n",
    "from bs4 import BeautifulSoup\n",
    "\n",
    "def search_urls(query):\n",
    "    # Format the query for the search URL\n",
    "    formatted_query = query.replace(' ', '+')\n",
    "\n",
    "    # Construct the search URL\n",
    "    search_url = f'https://www.google.com/search?q={formatted_query}'\n",
    "\n",
    "    # Send a GET request to the search URL\n",
    "    response = requests.get(search_url)\n",
    "\n",
    "    # Parse the HTML content of the response\n",
    "    soup = BeautifulSoup(response.text, 'html.parser')\n",
    "\n",
    "    # Find all the search result links\n",
    "    search_results = soup.find_all('a')\n",
    "\n",
    "    # Extract the URLs from the search result links\n",
    "    urls = []\n",
    "    for result in search_results:\n",
    "        url = result.get('href')\n",
    "        if url.startswith('/url?q='):\n",
    "            urls.append(url[7:])  # Remove the '/url?q=' prefix\n",
    "\n",
    "    return urls\n",
    "\n",
    "# Example usage\n",
    "query = 'Beautiful Soup for beginners'\n",
    "urls = search_urls(query)\n",
    "\n",
    "# Print the list of URLs\n",
    "for url in urls:\n",
    "    print(url)"
   ]
  }
 ],
 "metadata": {
  "kernelspec": {
   "display_name": "Python 3 (ipykernel)",
   "language": "python",
   "name": "python3"
  },
  "language_info": {
   "codemirror_mode": {
    "name": "ipython",
    "version": 3
   },
   "file_extension": ".py",
   "mimetype": "text/x-python",
   "name": "python",
   "nbconvert_exporter": "python",
   "pygments_lexer": "ipython3",
   "version": "3.9.7"
  }
 },
 "nbformat": 4,
 "nbformat_minor": 5
}
